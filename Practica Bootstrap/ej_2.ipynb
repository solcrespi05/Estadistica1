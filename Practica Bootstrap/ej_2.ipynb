{
 "cells": [
  {
   "cell_type": "markdown",
   "metadata": {},
   "source": [
    "# Ejercicio 2\n",
    "Considerar los datasets de los precios anuales de las acciones de The Coca-Cola Company y las búsquedas en Google de “my cat scratched me” disponibles en https://shorturl.at/xIPSV. \n",
    "* (a) Encontrar el estimador plug-in del coeficiente de correlación entre ambos con juntos de datos. \n",
    "* (b) Estimar su error estándar usando bootstrap. \n",
    "* (c) Encontrar un intervalo de confianza de nivel 0.95 usando los métodos normal, percentile bootstrap, basic bootstrap y BCa."
   ]
  },
  {
   "cell_type": "code",
   "execution_count": null,
   "metadata": {},
   "outputs": [],
   "source": [
    "#no encontre los datos. "
   ]
  }
 ],
 "metadata": {
  "language_info": {
   "name": "python"
  }
 },
 "nbformat": 4,
 "nbformat_minor": 2
}
