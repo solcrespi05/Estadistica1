{
 "cells": [
  {
   "cell_type": "markdown",
   "metadata": {},
   "source": [
    "# Ejercicio 1\n",
    "Generar 30 samples de una distribución Bernoulli de parámetro 𝑝 = 0.3. \n",
    "* (a) Encontrar el estimador plug-in del desvío estándar 𝜎 de la distribución. \n",
    "* (b) Estimar su error estándar usando bootstrap. \n",
    "* (c) Encontrar un intervalo de confianza de nivel 0.95 usando los métodos normal, percentile bootstrap, basic bootstrap y BCa. 2. Considerar los datasets de los precio"
   ]
  },
  {
   "cell_type": "code",
   "execution_count": null,
   "metadata": {},
   "outputs": [],
   "source": []
  }
 ],
 "metadata": {
  "language_info": {
   "name": "python"
  }
 },
 "nbformat": 4,
 "nbformat_minor": 2
}
