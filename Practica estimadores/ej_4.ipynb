{
 "cells": [
  {
   "cell_type": "markdown",
   "metadata": {},
   "source": [
    "# Ejercicio 4\n",
    "En 1975 se llevó a cabo un experimento para ver si la siembra de nubes producía lluvia. Se sembraron 26 nubes con nitrato de plata y otras 26 no fueron sembradas. En https://dasl.datadescription.com/datafile/cloud-seeding/ se encuentra el dataset con la cantidad de lluvia que generó cada nube en cada uno de los dos grupos. Llamamos 𝜃 a la diferencia entre la precipitación media de los dos grupos.\n",
    "* (a) Estimar 𝜃\n",
    "* (b) Estimar el error estándar de $\\hat{\\theta}$ y producir un intervalo de confianza de 95%"
   ]
  },
  {
   "cell_type": "code",
   "execution_count": 1,
   "metadata": {},
   "outputs": [
    {
     "name": "stdout",
     "output_type": "stream",
     "text": [
      "a. Estimador de la diferencia de medias: 277.3961538461539\n",
      "b. Error estándar de la diferencia de medias: 138.81991721642947\n",
      "c. Intervalo de confianza del 95%: (np.float64(-8.508817551103391), np.float64(563.3011252434112))\n"
     ]
    }
   ],
   "source": [
    "import pandas as pd\n",
    "import numpy as np\n",
    "from scipy import stats\n",
    "\n",
    "# Load the txt file as if it were a CSV with tab or space separation\n",
    "file_path = '/workspaces/Estadistica1/Practica estimadores/cloud-seeding.txt'\n",
    "df = pd.read_csv(file_path, sep= r'\\s+', header=0)\n",
    "\n",
    "# mu es la diferencia entre las medias muestrales de los dos grupos\n",
    "grupo_1 = df['Unseeded_Clouds']\n",
    "grupo_2 = df['Seeded_Clouds']\n",
    "\n",
    "media_grupo_1 = grupo_1.mean()\n",
    "media_grupo_2 = grupo_2.mean()\n",
    "\n",
    "mu = media_grupo_2 - media_grupo_1\n",
    "print(f'a. Estimador de la diferencia de medias: {mu}')\n",
    "# Calcular el error estándar de mu\n",
    "n1 = len(grupo_1)\n",
    "n2 = len(grupo_2)\n",
    "var_grupo_1 = grupo_1.var(ddof=1)\n",
    "var_grupo_2 = grupo_2.var(ddof=1)\n",
    "\n",
    "error_estandar_mu = np.sqrt(var_grupo_1/n1 + var_grupo_2/n2)\n",
    "print(f'b. Error estándar de la diferencia de medias: {error_estandar_mu}')\n",
    "\n",
    "# Calcular el intervalo de confianza del 95%\n",
    "alpha = 0.05\n",
    "t_critical = stats.t.ppf(1 - alpha/2, df=min(n1, n2) - 1)\n",
    "margen_error = t_critical * error_estandar_mu\n",
    "\n",
    "intervalo_confianza = (mu - margen_error, mu + margen_error)\n",
    "print(f'c. Intervalo de confianza del 95%: {intervalo_confianza}')\n",
    "\n",
    "# "
   ]
  }
 ],
 "metadata": {
  "kernelspec": {
   "display_name": "Python 3",
   "language": "python",
   "name": "python3"
  },
  "language_info": {
   "codemirror_mode": {
    "name": "ipython",
    "version": 3
   },
   "file_extension": ".py",
   "mimetype": "text/x-python",
   "name": "python",
   "nbconvert_exporter": "python",
   "pygments_lexer": "ipython3",
   "version": "3.12.1"
  }
 },
 "nbformat": 4,
 "nbformat_minor": 2
}
